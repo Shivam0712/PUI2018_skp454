{
 "cells": [
  {
   "cell_type": "code",
   "execution_count": 1,
   "metadata": {},
   "outputs": [],
   "source": [
    "from __future__ import print_function  #for compatibility beteen python2 and python3\n",
    "__author__ = \"Shivam Kumar Pathak - skp454, CUSP NYU 2018\""
   ]
  },
  {
   "cell_type": "code",
   "execution_count": 2,
   "metadata": {},
   "outputs": [],
   "source": [
    "# Import useful libraries\n",
    "import os\n",
    "import sys\n",
    "import pandas as pd \n",
    "import matplotlib.pylab as plt\n",
    "\n",
    "%matplotlib inline"
   ]
  },
  {
   "cell_type": "markdown",
   "metadata": {},
   "source": [
    "## Drinking Water Quality Distribution and Monitoring\n",
    "\n",
    "The data for this is available at NYC OPEN DATA."
   ]
  },
  {
   "cell_type": "markdown",
   "metadata": {},
   "source": [
    "### Solution1: Direct download using URL\n",
    "\n",
    "The url to download this data in csv: https://data.cityofnewyork.us/api/views/bkwf-xfky/rows.csv?accessType=DOWNLOAD"
   ]
  },
  {
   "cell_type": "code",
   "execution_count": 3,
   "metadata": {},
   "outputs": [
    {
     "name": "stdout",
     "output_type": "stream",
     "text": [
      "  % Total    % Received % Xferd  Average Speed   Time    Time     Time  Current\n",
      "                                 Dload  Upload   Total   Spent    Left  Speed\n",
      "100 6404k    0 6404k    0     0  2391k      0 --:--:--  0:00:02 --:--:-- 2391k\n"
     ]
    }
   ],
   "source": [
    "# Download data from above url to 'annualwaternyc.csv'\n",
    "!curl https://data.cityofnewyork.us/api/views/bkwf-xfky/rows.csv?accessType=DOWNLOAD > drinkingwaterquality.csv"
   ]
  },
  {
   "cell_type": "code",
   "execution_count": 4,
   "metadata": {},
   "outputs": [
    {
     "name": "stdout",
     "output_type": "stream",
     "text": [
      "PUIdata /nfshome/skp454/PUIdata\n"
     ]
    }
   ],
   "source": [
    "# Checking the availability of env variable 'PUIDATA'\n",
    "print(\"PUIdata\", os.getenv(\"PUIDATA\"))"
   ]
  },
  {
   "cell_type": "code",
   "execution_count": 5,
   "metadata": {},
   "outputs": [
    {
     "name": "stdout",
     "output_type": "stream",
     "text": [
      "PUIdata /nfshome/skp454/PUIdata\n"
     ]
    }
   ],
   "source": [
    "# Create the env variable if missing\n",
    "os.environ[\"PUIDATA\"] = \"%s/PUIdata\"%os.getenv(\"HOME\")\n",
    "print(\"PUIdata\", os.getenv(\"PUIDATA\"))"
   ]
  },
  {
   "cell_type": "code",
   "execution_count": 6,
   "metadata": {},
   "outputs": [],
   "source": [
    "# Move the data to PUIdata directory\n",
    "!mv drinkingwaterquality.csv $PUIDATA"
   ]
  },
  {
   "cell_type": "code",
   "execution_count": 7,
   "metadata": {},
   "outputs": [
    {
     "name": "stdout",
     "output_type": "stream",
     "text": [
      "drinkingwaterquality.csv\r\n"
     ]
    }
   ],
   "source": [
    "#test if the data is there\n",
    "!ls $PUIDATA"
   ]
  },
  {
   "cell_type": "code",
   "execution_count": 8,
   "metadata": {},
   "outputs": [],
   "source": [
    "# Import data from csv to pandas dataframe\n",
    "df_dwQuality = pd.read_csv(\"%s/drinkingwaterquality.csv\"%os.getenv(\"PUIDATA\")) "
   ]
  },
  {
   "cell_type": "code",
   "execution_count": 9,
   "metadata": {},
   "outputs": [
    {
     "data": {
      "text/html": [
       "<div>\n",
       "<table border=\"1\" class=\"dataframe\">\n",
       "  <thead>\n",
       "    <tr style=\"text-align: right;\">\n",
       "      <th></th>\n",
       "      <th>Sample Number</th>\n",
       "      <th>Sample Date</th>\n",
       "      <th>Sample Time</th>\n",
       "      <th>Sample Site</th>\n",
       "      <th>Sample class</th>\n",
       "      <th>Location</th>\n",
       "      <th>Residual Free Chlorine (mg/L)</th>\n",
       "      <th>Turbidity (NTU)</th>\n",
       "      <th>Fluoride (mg/L)</th>\n",
       "      <th>Coliform (Quanti-Tray) (MPN /100mL)</th>\n",
       "      <th>E.coli(Quanti-Tray) (MPN/100mL)</th>\n",
       "    </tr>\n",
       "  </thead>\n",
       "  <tbody>\n",
       "    <tr>\n",
       "      <th>0</th>\n",
       "      <td>NaN</td>\n",
       "      <td>01/01/2015</td>\n",
       "      <td>12:19</td>\n",
       "      <td>1S07</td>\n",
       "      <td>Operational</td>\n",
       "      <td>SS - Shaft 7 of City Tunnel No. 1 - W/S Sedgwi...</td>\n",
       "      <td>0.58</td>\n",
       "      <td>0.96</td>\n",
       "      <td>0.79</td>\n",
       "      <td>&lt;1</td>\n",
       "      <td>&lt;1</td>\n",
       "    </tr>\n",
       "    <tr>\n",
       "      <th>1</th>\n",
       "      <td>NaN</td>\n",
       "      <td>01/01/2015</td>\n",
       "      <td>11:15</td>\n",
       "      <td>1S04</td>\n",
       "      <td>Operational</td>\n",
       "      <td>SS - Shaft 4 of City Tunnel No.1 - IFO 2780 Re...</td>\n",
       "      <td>0.71</td>\n",
       "      <td>0.94</td>\n",
       "      <td>0.80</td>\n",
       "      <td>&lt;1</td>\n",
       "      <td>&lt;1</td>\n",
       "    </tr>\n",
       "    <tr>\n",
       "      <th>2</th>\n",
       "      <td>NaN</td>\n",
       "      <td>01/01/2015</td>\n",
       "      <td>10:09</td>\n",
       "      <td>1S03A</td>\n",
       "      <td>Operational</td>\n",
       "      <td>SS - Shaft 3A of City Tunnel No. 2 - IFO 823 S...</td>\n",
       "      <td>0.79</td>\n",
       "      <td>0.93</td>\n",
       "      <td>0.79</td>\n",
       "      <td>&lt;1</td>\n",
       "      <td>&lt;1</td>\n",
       "    </tr>\n",
       "    <tr>\n",
       "      <th>3</th>\n",
       "      <td>NaN</td>\n",
       "      <td>01/01/2015</td>\n",
       "      <td>10:41</td>\n",
       "      <td>1S03B</td>\n",
       "      <td>Operational</td>\n",
       "      <td>SS - Shaft 3B of City Tunnel No. 3 - Mosholu A...</td>\n",
       "      <td>0.77</td>\n",
       "      <td>0.93</td>\n",
       "      <td>0.80</td>\n",
       "      <td>&lt;1</td>\n",
       "      <td>&lt;1</td>\n",
       "    </tr>\n",
       "    <tr>\n",
       "      <th>4</th>\n",
       "      <td>NaN</td>\n",
       "      <td>01/01/2015</td>\n",
       "      <td>09:38</td>\n",
       "      <td>11550</td>\n",
       "      <td>Compliance</td>\n",
       "      <td>SS - IFO 1058 S/S E Gun Hill Rd, 1st SS E/O Ho...</td>\n",
       "      <td>0.74</td>\n",
       "      <td>0.95</td>\n",
       "      <td>NaN</td>\n",
       "      <td>&lt;1</td>\n",
       "      <td>&lt;1</td>\n",
       "    </tr>\n",
       "    <tr>\n",
       "      <th>5</th>\n",
       "      <td>NaN</td>\n",
       "      <td>01/01/2015</td>\n",
       "      <td>08:41</td>\n",
       "      <td>13850</td>\n",
       "      <td>Compliance</td>\n",
       "      <td>SS - IFO 1778 E/S Jerome Ave, 1st SS S/O E 176...</td>\n",
       "      <td>0.59</td>\n",
       "      <td>1.08</td>\n",
       "      <td>NaN</td>\n",
       "      <td>&lt;1</td>\n",
       "      <td>&lt;1</td>\n",
       "    </tr>\n",
       "    <tr>\n",
       "      <th>6</th>\n",
       "      <td>NaN</td>\n",
       "      <td>01/01/2015</td>\n",
       "      <td>09:07</td>\n",
       "      <td>15550</td>\n",
       "      <td>Compliance</td>\n",
       "      <td>SS - IFO 2499 W/S Grand Ave, 1st SS S/O W 190t...</td>\n",
       "      <td>0.54</td>\n",
       "      <td>0.90</td>\n",
       "      <td>NaN</td>\n",
       "      <td>&lt;1</td>\n",
       "      <td>&lt;1</td>\n",
       "    </tr>\n",
       "  </tbody>\n",
       "</table>\n",
       "</div>"
      ],
      "text/plain": [
       "   Sample Number Sample Date Sample Time Sample Site Sample class  \\\n",
       "0            NaN  01/01/2015       12:19        1S07  Operational   \n",
       "1            NaN  01/01/2015       11:15        1S04  Operational   \n",
       "2            NaN  01/01/2015       10:09       1S03A  Operational   \n",
       "3            NaN  01/01/2015       10:41       1S03B  Operational   \n",
       "4            NaN  01/01/2015       09:38       11550   Compliance   \n",
       "5            NaN  01/01/2015       08:41       13850   Compliance   \n",
       "6            NaN  01/01/2015       09:07       15550   Compliance   \n",
       "\n",
       "                                            Location  \\\n",
       "0  SS - Shaft 7 of City Tunnel No. 1 - W/S Sedgwi...   \n",
       "1  SS - Shaft 4 of City Tunnel No.1 - IFO 2780 Re...   \n",
       "2  SS - Shaft 3A of City Tunnel No. 2 - IFO 823 S...   \n",
       "3  SS - Shaft 3B of City Tunnel No. 3 - Mosholu A...   \n",
       "4  SS - IFO 1058 S/S E Gun Hill Rd, 1st SS E/O Ho...   \n",
       "5  SS - IFO 1778 E/S Jerome Ave, 1st SS S/O E 176...   \n",
       "6  SS - IFO 2499 W/S Grand Ave, 1st SS S/O W 190t...   \n",
       "\n",
       "   Residual Free Chlorine (mg/L)  Turbidity (NTU)  Fluoride (mg/L)  \\\n",
       "0                           0.58             0.96             0.79   \n",
       "1                           0.71             0.94             0.80   \n",
       "2                           0.79             0.93             0.79   \n",
       "3                           0.77             0.93             0.80   \n",
       "4                           0.74             0.95              NaN   \n",
       "5                           0.59             1.08              NaN   \n",
       "6                           0.54             0.90              NaN   \n",
       "\n",
       "  Coliform (Quanti-Tray) (MPN /100mL) E.coli(Quanti-Tray) (MPN/100mL)  \n",
       "0                                 <1                              <1   \n",
       "1                                 <1                              <1   \n",
       "2                                 <1                              <1   \n",
       "3                                 <1                              <1   \n",
       "4                                 <1                              <1   \n",
       "5                                 <1                              <1   \n",
       "6                                 <1                              <1   "
      ]
     },
     "execution_count": 9,
     "metadata": {},
     "output_type": "execute_result"
    }
   ],
   "source": [
    "# First 7 rows of dataframe\n",
    "df_dwQuality.head(7)"
   ]
  },
  {
   "cell_type": "code",
   "execution_count": 10,
   "metadata": {},
   "outputs": [],
   "source": [
    "# Truncating the dataframe to keep only useful columns for plotting\n",
    "# As the dataframe has data for many sites, we are keeping only those rows which are for Site No.1S04 \n",
    "df_dwQualityTruncated=df_dwQuality.loc[df_dwQuality[\"Sample Site\"]==' 1S04',[\"Residual Free Chlorine (mg/L)\",\"Turbidity (NTU)\"]]"
   ]
  },
  {
   "cell_type": "code",
   "execution_count": 11,
   "metadata": {},
   "outputs": [
    {
     "data": {
      "text/html": [
       "<div>\n",
       "<table border=\"1\" class=\"dataframe\">\n",
       "  <thead>\n",
       "    <tr style=\"text-align: right;\">\n",
       "      <th></th>\n",
       "      <th>Residual Free Chlorine (mg/L)</th>\n",
       "      <th>Turbidity (NTU)</th>\n",
       "    </tr>\n",
       "  </thead>\n",
       "  <tbody>\n",
       "    <tr>\n",
       "      <th>1</th>\n",
       "      <td>0.71</td>\n",
       "      <td>0.94</td>\n",
       "    </tr>\n",
       "    <tr>\n",
       "      <th>36</th>\n",
       "      <td>0.66</td>\n",
       "      <td>0.99</td>\n",
       "    </tr>\n",
       "    <tr>\n",
       "      <th>80</th>\n",
       "      <td>0.57</td>\n",
       "      <td>1.10</td>\n",
       "    </tr>\n",
       "    <tr>\n",
       "      <th>114</th>\n",
       "      <td>0.68</td>\n",
       "      <td>1.12</td>\n",
       "    </tr>\n",
       "    <tr>\n",
       "      <th>149</th>\n",
       "      <td>0.74</td>\n",
       "      <td>1.01</td>\n",
       "    </tr>\n",
       "    <tr>\n",
       "      <th>193</th>\n",
       "      <td>0.70</td>\n",
       "      <td>1.08</td>\n",
       "    </tr>\n",
       "    <tr>\n",
       "      <th>263</th>\n",
       "      <td>0.81</td>\n",
       "      <td>1.21</td>\n",
       "    </tr>\n",
       "  </tbody>\n",
       "</table>\n",
       "</div>"
      ],
      "text/plain": [
       "     Residual Free Chlorine (mg/L)  Turbidity (NTU)\n",
       "1                             0.71             0.94\n",
       "36                            0.66             0.99\n",
       "80                            0.57             1.10\n",
       "114                           0.68             1.12\n",
       "149                           0.74             1.01\n",
       "193                           0.70             1.08\n",
       "263                           0.81             1.21"
      ]
     },
     "execution_count": 11,
     "metadata": {},
     "output_type": "execute_result"
    }
   ],
   "source": [
    "# Top 7 rows of the new truncated dataframe\n",
    "df_dwQualityTruncated.head(7)"
   ]
  },
  {
   "cell_type": "code",
   "execution_count": 12,
   "metadata": {},
   "outputs": [
    {
     "data": {
      "text/plain": [
       "Text(0.5,1,'Drinking Water Quality at Site No. 1S04')"
      ]
     },
     "execution_count": 12,
     "metadata": {},
     "output_type": "execute_result"
    },
    {
     "data": {
      "image/png": "[encoded data removed]",
      "text/plain": [
       "<matplotlib.figure.Figure at 0x7fc895768128>"
      ]
     },
     "metadata": {},
     "output_type": "display_data"
    }
   ],
   "source": [
    "# Plotting water usage of NYC over years\n",
    "df_dwQualityTruncated.plot(y=\"Residual Free Chlorine (mg/L)\", x=\"Turbidity (NTU)\", kind='scatter')\n",
    "plt.title('Drinking Water Quality at Site No. 1S04')"
   ]
  },
  {
   "cell_type": "markdown",
   "metadata": {},
   "source": [
    "#### Drinking Water Quality at Site No. 1S04\n",
    "1. The above plots shows the relation of Turbidity(NTU) with Residual Free Chlorine(mg/L) at Grand Avenue.\n",
    "\n",
    "2. This plot is important to understand the effect of Turbidity on Residual Free Chlorine . \n",
    "\n",
    "3. There is no general relation between Turbidity and Residual Free Chlorine at Site No. 1S04.  "
   ]
  },
  {
   "cell_type": "markdown",
   "metadata": {},
   "source": [
    "### Solution 2: Use API and download a json file\n"
   ]
  },
  {
   "cell_type": "code",
   "execution_count": 13,
   "metadata": {},
   "outputs": [],
   "source": [
    "# URl for downloading JSON from SODA API\n",
    "url = 'https://data.cityofnewyork.us/resource/xehj-c7r8.json'"
   ]
  },
  {
   "cell_type": "code",
   "execution_count": 14,
   "metadata": {},
   "outputs": [],
   "source": [
    "# Downloading data from URL and storing in a dataframe\n",
    "df_dwQuality2 = pd.read_json(url)"
   ]
  },
  {
   "cell_type": "code",
   "execution_count": 15,
   "metadata": {},
   "outputs": [
    {
     "data": {
      "text/html": [
       "<div>\n",
       "<table border=\"1\" class=\"dataframe\">\n",
       "  <thead>\n",
       "    <tr style=\"text-align: right;\">\n",
       "      <th></th>\n",
       "      <th>coliform_quanti_tray_mpn_100ml</th>\n",
       "      <th>e_coli_quanti_tray_mpn_100ml</th>\n",
       "      <th>fluoride_mg_l</th>\n",
       "      <th>location</th>\n",
       "      <th>residual_free_chlorine_mg_l</th>\n",
       "      <th>sample_class</th>\n",
       "      <th>sample_date</th>\n",
       "      <th>sample_site</th>\n",
       "      <th>sample_time</th>\n",
       "      <th>turbidity_ntu</th>\n",
       "    </tr>\n",
       "  </thead>\n",
       "  <tbody>\n",
       "    <tr>\n",
       "      <th>0</th>\n",
       "      <td>&lt;1</td>\n",
       "      <td>&lt;1</td>\n",
       "      <td>0.79</td>\n",
       "      <td>SS - Shaft 7 of City Tunnel No. 1 - W/S Sedgwi...</td>\n",
       "      <td>0.58</td>\n",
       "      <td>Operational</td>\n",
       "      <td>2015-01-01T00:00:00.000</td>\n",
       "      <td>1S07</td>\n",
       "      <td>2018-09-26 12:19:00</td>\n",
       "      <td>0.96</td>\n",
       "    </tr>\n",
       "    <tr>\n",
       "      <th>1</th>\n",
       "      <td>&lt;1</td>\n",
       "      <td>&lt;1</td>\n",
       "      <td>0.80</td>\n",
       "      <td>SS - Shaft 4 of City Tunnel No.1 - IFO 2780 Re...</td>\n",
       "      <td>0.71</td>\n",
       "      <td>Operational</td>\n",
       "      <td>2015-01-01T00:00:00.000</td>\n",
       "      <td>1S04</td>\n",
       "      <td>2018-09-26 11:15:00</td>\n",
       "      <td>0.94</td>\n",
       "    </tr>\n",
       "    <tr>\n",
       "      <th>2</th>\n",
       "      <td>&lt;1</td>\n",
       "      <td>&lt;1</td>\n",
       "      <td>0.79</td>\n",
       "      <td>SS - Shaft 3A of City Tunnel No. 2 - IFO 823 S...</td>\n",
       "      <td>0.79</td>\n",
       "      <td>Operational</td>\n",
       "      <td>2015-01-01T00:00:00.000</td>\n",
       "      <td>1S03A</td>\n",
       "      <td>2018-09-26 10:09:00</td>\n",
       "      <td>0.93</td>\n",
       "    </tr>\n",
       "    <tr>\n",
       "      <th>3</th>\n",
       "      <td>&lt;1</td>\n",
       "      <td>&lt;1</td>\n",
       "      <td>0.80</td>\n",
       "      <td>SS - Shaft 3B of City Tunnel No. 3 - Mosholu A...</td>\n",
       "      <td>0.77</td>\n",
       "      <td>Operational</td>\n",
       "      <td>2015-01-01T00:00:00.000</td>\n",
       "      <td>1S03B</td>\n",
       "      <td>2018-09-26 10:41:00</td>\n",
       "      <td>0.93</td>\n",
       "    </tr>\n",
       "    <tr>\n",
       "      <th>4</th>\n",
       "      <td>&lt;1</td>\n",
       "      <td>&lt;1</td>\n",
       "      <td>NaN</td>\n",
       "      <td>SS - IFO 1058 S/S E Gun Hill Rd, 1st SS E/O Ho...</td>\n",
       "      <td>0.74</td>\n",
       "      <td>Compliance</td>\n",
       "      <td>2015-01-01T00:00:00.000</td>\n",
       "      <td>11550</td>\n",
       "      <td>2018-09-26 09:38:00</td>\n",
       "      <td>0.95</td>\n",
       "    </tr>\n",
       "    <tr>\n",
       "      <th>5</th>\n",
       "      <td>&lt;1</td>\n",
       "      <td>&lt;1</td>\n",
       "      <td>NaN</td>\n",
       "      <td>SS - IFO 1778 E/S Jerome Ave, 1st SS S/O E 176...</td>\n",
       "      <td>0.59</td>\n",
       "      <td>Compliance</td>\n",
       "      <td>2015-01-01T00:00:00.000</td>\n",
       "      <td>13850</td>\n",
       "      <td>2018-09-26 08:41:00</td>\n",
       "      <td>1.08</td>\n",
       "    </tr>\n",
       "    <tr>\n",
       "      <th>6</th>\n",
       "      <td>&lt;1</td>\n",
       "      <td>&lt;1</td>\n",
       "      <td>NaN</td>\n",
       "      <td>SS - IFO 2499 W/S Grand Ave, 1st SS S/O W 190t...</td>\n",
       "      <td>0.54</td>\n",
       "      <td>Compliance</td>\n",
       "      <td>2015-01-01T00:00:00.000</td>\n",
       "      <td>15550</td>\n",
       "      <td>2018-09-26 09:07:00</td>\n",
       "      <td>0.90</td>\n",
       "    </tr>\n",
       "    <tr>\n",
       "      <th>7</th>\n",
       "      <td>&lt;1</td>\n",
       "      <td>&lt;1</td>\n",
       "      <td>NaN</td>\n",
       "      <td>SS - IFO 309 N/S E 149th St, 2nd SS W/O Courtl...</td>\n",
       "      <td>0.56</td>\n",
       "      <td>Compliance</td>\n",
       "      <td>2015-01-01T00:00:00.000</td>\n",
       "      <td>17550</td>\n",
       "      <td>2018-09-26 11:16:00</td>\n",
       "      <td>1.00</td>\n",
       "    </tr>\n",
       "  </tbody>\n",
       "</table>\n",
       "</div>"
      ],
      "text/plain": [
       "  coliform_quanti_tray_mpn_100ml e_coli_quanti_tray_mpn_100ml  fluoride_mg_l  \\\n",
       "0                            <1                           <1            0.79   \n",
       "1                            <1                           <1            0.80   \n",
       "2                            <1                           <1            0.79   \n",
       "3                            <1                           <1            0.80   \n",
       "4                            <1                           <1             NaN   \n",
       "5                            <1                           <1             NaN   \n",
       "6                            <1                           <1             NaN   \n",
       "7                            <1                           <1             NaN   \n",
       "\n",
       "                                            location  \\\n",
       "0  SS - Shaft 7 of City Tunnel No. 1 - W/S Sedgwi...   \n",
       "1  SS - Shaft 4 of City Tunnel No.1 - IFO 2780 Re...   \n",
       "2  SS - Shaft 3A of City Tunnel No. 2 - IFO 823 S...   \n",
       "3  SS - Shaft 3B of City Tunnel No. 3 - Mosholu A...   \n",
       "4  SS - IFO 1058 S/S E Gun Hill Rd, 1st SS E/O Ho...   \n",
       "5  SS - IFO 1778 E/S Jerome Ave, 1st SS S/O E 176...   \n",
       "6  SS - IFO 2499 W/S Grand Ave, 1st SS S/O W 190t...   \n",
       "7  SS - IFO 309 N/S E 149th St, 2nd SS W/O Courtl...   \n",
       "\n",
       "   residual_free_chlorine_mg_l sample_class              sample_date  \\\n",
       "0                         0.58  Operational  2015-01-01T00:00:00.000   \n",
       "1                         0.71  Operational  2015-01-01T00:00:00.000   \n",
       "2                         0.79  Operational  2015-01-01T00:00:00.000   \n",
       "3                         0.77  Operational  2015-01-01T00:00:00.000   \n",
       "4                         0.74   Compliance  2015-01-01T00:00:00.000   \n",
       "5                         0.59   Compliance  2015-01-01T00:00:00.000   \n",
       "6                         0.54   Compliance  2015-01-01T00:00:00.000   \n",
       "7                         0.56   Compliance  2015-01-01T00:00:00.000   \n",
       "\n",
       "  sample_site         sample_time  turbidity_ntu  \n",
       "0        1S07 2018-09-26 12:19:00           0.96  \n",
       "1        1S04 2018-09-26 11:15:00           0.94  \n",
       "2       1S03A 2018-09-26 10:09:00           0.93  \n",
       "3       1S03B 2018-09-26 10:41:00           0.93  \n",
       "4       11550 2018-09-26 09:38:00           0.95  \n",
       "5       13850 2018-09-26 08:41:00           1.08  \n",
       "6       15550 2018-09-26 09:07:00           0.90  \n",
       "7       17550 2018-09-26 11:16:00           1.00  "
      ]
     },
     "execution_count": 15,
     "metadata": {},
     "output_type": "execute_result"
    }
   ],
   "source": [
    "# The first 8 rows of the data\n",
    "df_dwQuality2.head(8)"
   ]
  },
  {
   "cell_type": "code",
   "execution_count": 16,
   "metadata": {},
   "outputs": [],
   "source": [
    "# Truncating the dataframe to keep only useful columns for plotting\n",
    "# As the dataframe has data for many sites, we are keeping only those rows which are for Site No.1S04 \n",
    "df_dwQuality2Truncated=df_dwQuality2.loc[df_dwQuality2['sample_site']==' 1S07',['sample_date','residual_free_chlorine_mg_l','turbidity_ntu']]"
   ]
  },
  {
   "cell_type": "code",
   "execution_count": 17,
   "metadata": {},
   "outputs": [],
   "source": [
    "# Changing the format of sample_date to Timestamp\n",
    "df_dwQuality2Truncated['sample_date'] = df_dwQuality2Truncated['sample_date'].apply(lambda x: pd.Timestamp(x))"
   ]
  },
  {
   "cell_type": "code",
   "execution_count": 18,
   "metadata": {},
   "outputs": [],
   "source": [
    "# Changing the column name to match with column names of earlier\n",
    "df_dwQuality2Truncated.columns = [\"Sample Date\", \"Residual Free Chlorine (mg/L)\", \"Turbidity (NTU)\"]"
   ]
  },
  {
   "cell_type": "code",
   "execution_count": 19,
   "metadata": {},
   "outputs": [
    {
     "data": {
      "text/html": [
       "<div>\n",
       "<table border=\"1\" class=\"dataframe\">\n",
       "  <thead>\n",
       "    <tr style=\"text-align: right;\">\n",
       "      <th></th>\n",
       "      <th>Sample Date</th>\n",
       "      <th>Residual Free Chlorine (mg/L)</th>\n",
       "      <th>Turbidity (NTU)</th>\n",
       "    </tr>\n",
       "  </thead>\n",
       "  <tbody>\n",
       "    <tr>\n",
       "      <th>0</th>\n",
       "      <td>2015-01-01</td>\n",
       "      <td>0.58</td>\n",
       "      <td>0.96</td>\n",
       "    </tr>\n",
       "    <tr>\n",
       "      <th>35</th>\n",
       "      <td>2015-01-02</td>\n",
       "      <td>0.69</td>\n",
       "      <td>1.04</td>\n",
       "    </tr>\n",
       "    <tr>\n",
       "      <th>80</th>\n",
       "      <td>2015-01-03</td>\n",
       "      <td>0.74</td>\n",
       "      <td>1.08</td>\n",
       "    </tr>\n",
       "    <tr>\n",
       "      <th>116</th>\n",
       "      <td>2015-01-04</td>\n",
       "      <td>0.63</td>\n",
       "      <td>1.03</td>\n",
       "    </tr>\n",
       "    <tr>\n",
       "      <th>151</th>\n",
       "      <td>2015-01-05</td>\n",
       "      <td>0.59</td>\n",
       "      <td>1.27</td>\n",
       "    </tr>\n",
       "    <tr>\n",
       "      <th>194</th>\n",
       "      <td>2015-01-06</td>\n",
       "      <td>0.71</td>\n",
       "      <td>1.14</td>\n",
       "    </tr>\n",
       "    <tr>\n",
       "      <th>268</th>\n",
       "      <td>2015-01-07</td>\n",
       "      <td>0.65</td>\n",
       "      <td>1.16</td>\n",
       "    </tr>\n",
       "    <tr>\n",
       "      <th>306</th>\n",
       "      <td>2015-01-08</td>\n",
       "      <td>0.56</td>\n",
       "      <td>1.14</td>\n",
       "    </tr>\n",
       "  </tbody>\n",
       "</table>\n",
       "</div>"
      ],
      "text/plain": [
       "    Sample Date  Residual Free Chlorine (mg/L)  Turbidity (NTU)\n",
       "0    2015-01-01                           0.58             0.96\n",
       "35   2015-01-02                           0.69             1.04\n",
       "80   2015-01-03                           0.74             1.08\n",
       "116  2015-01-04                           0.63             1.03\n",
       "151  2015-01-05                           0.59             1.27\n",
       "194  2015-01-06                           0.71             1.14\n",
       "268  2015-01-07                           0.65             1.16\n",
       "306  2015-01-08                           0.56             1.14"
      ]
     },
     "execution_count": 19,
     "metadata": {},
     "output_type": "execute_result"
    }
   ],
   "source": [
    "# The first 8 rows of truncated data\n",
    "df_dwQuality2Truncated.head(8)"
   ]
  },
  {
   "cell_type": "code",
   "execution_count": 20,
   "metadata": {},
   "outputs": [
    {
     "data": {
      "image/png": "[encoded data removed]",
      "text/plain": [
       "<matplotlib.figure.Figure at 0x7fc89058cdd8>"
      ]
     },
     "metadata": {},
     "output_type": "display_data"
    }
   ],
   "source": [
    "# Plotting Turbidity with Sample Date\n",
    "plot = df_dwQuality2Truncated.plot(x='Sample Date', y='Turbidity (NTU)')\n",
    "plot.set_ylabel(\"NTU\");\n",
    "plt.title('Turbidity(NTU) in Month of January 2015 at Site No. 1S04');"
   ]
  },
  {
   "cell_type": "markdown",
   "metadata": {},
   "source": [
    "### Turbidity(NTU) in Month of January 2015 at Site No. 1S04\n",
    "\n",
    "1. The plot shows turbidity in NTU for differnet dates of January-2015 at site no. 1S04\n",
    "2. As seen in the plot, Turbidity peaks at few dates (05-Jan and 10-Jan) and overall it has gone down towards the ned of month"
   ]
  },
  {
   "cell_type": "code",
   "execution_count": 21,
   "metadata": {},
   "outputs": [
    {
     "data": {
      "text/plain": [
       "Text(0.5,1,'Residual Free Chlorine (mg/L) in Month of January 2015 at Site No. 1S04')"
      ]
     },
     "execution_count": 21,
     "metadata": {},
     "output_type": "execute_result"
    },
    {
     "data": {
      "image/png": "[encoded data removed]",
      "text/plain": [
       "<matplotlib.figure.Figure at 0x7fc890614358>"
      ]
     },
     "metadata": {},
     "output_type": "display_data"
    }
   ],
   "source": [
    "# Plotting Residual Free Chlorine with Sample Date\n",
    "Plot2 = df_dwQuality2Truncated.plot(x=\"Sample Date\", y=\"Residual Free Chlorine (mg/L)\")\n",
    "Plot2.set_ylabel(\"Number\");\n",
    "plt.title('Residual Free Chlorine (mg/L) in Month of January 2015 at Site No. 1S04')"
   ]
  },
  {
   "cell_type": "markdown",
   "metadata": {},
   "source": [
    "### Residual Free Chlorine (mg/L) in Month of January 2015 at Site No. 1S04\n",
    "\n",
    "1. The plot shows residual free chlorine in mg/L for differnet dates of January-2015 at site no. 1S04\n",
    "2. As seen in the plot, residual free clorine has slight variation daywise and this variation was fairly low between 12 to 21 January."
   ]
  }
 ],
 "metadata": {
  "kernelspec": {
   "display_name": "PUI2016_Python3",
   "language": "python",
   "name": "pui2016_python3"
  },
  "language_info": {
   "codemirror_mode": {
    "name": "ipython",
    "version": 3
   },
   "file_extension": ".py",
   "mimetype": "text/x-python",
   "name": "python",
   "nbconvert_exporter": "python",
   "pygments_lexer": "ipython3",
   "version": "3.5.4"
  }
 },
 "nbformat": 4,
 "nbformat_minor": 2
}
