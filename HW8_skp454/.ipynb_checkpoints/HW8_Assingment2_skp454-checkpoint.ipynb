{
 "cells": [
  {
   "cell_type": "code",
   "execution_count": 1,
   "metadata": {},
   "outputs": [
    {
     "name": "stdout",
     "output_type": "stream",
     "text": [
      "Populating the interactive namespace from numpy and matplotlib\n"
     ]
    }
   ],
   "source": [
    "# Import useful libraries\n",
    "from __future__  import print_function, division\n",
    "import pylab as pl\n",
    "import pandas as pd\n",
    "import numpy as np\n",
    "import os\n",
    "\n",
    "%pylab inline"
   ]
  },
  {
   "cell_type": "markdown",
   "metadata": {},
   "source": [
    "###### IDEA:\n",
    "There is a problem with the way citbike data is collected.\n",
    "\n",
    "Although the subscribers are inputting their gender data properly, customers are not doing the same.\n",
    "\n",
    "Thus, any analysis based on gender can become skewed.\n",
    "\n",
    "Clear Idea: Customers are not inputting the gender data properly\n",
    "\n",
    "###### NULL HYPOTHESIS:\n",
    "The proportion of customers with unknown gender is the same or less than the proportion of subscribers with unknown gender\n",
    "\n",
    "_$H_0$ : $\\frac{C_{\\mathrm{ unknown-gender}}}{C_{\\mathrm{ total}}} <= \\frac{S_{\\mathrm{ unknown-gender}}}{S_{\\mathrm{ total}}}$\n",
    "\n",
    "_$H_1$ : $\\frac{C_{\\mathrm{ unknown-gender}}}{C_{\\mathrm{ total}}} > \\frac{S_{\\mathrm{ unknown-gender}}}{S_{\\mathrm{ total}}}$\n",
    "\n",
    "or identically:\n",
    "\n",
    "_$H_0$ : $\\frac{C_{\\mathrm{unknown-gender}}}{C_{\\mathrm{total}}} - \\frac{S_{\\mathrm{unknown-gender}}}{S_{\\mathrm{total}}} <= 0$\n",
    "\n",
    "_$H_1$ : $\\frac{C_{\\mathrm{unknown-gender}}}{C_{\\mathrm{total}}} - \\frac{S_{\\mathrm{unknown-gender}}}{S_{\\mathrm{total}}} > 0 $\n",
    "\n",
    "I will use a significance level  $\\alpha=0.05$"
   ]
  },
  {
   "cell_type": "code",
   "execution_count": 2,
   "metadata": {},
   "outputs": [],
   "source": [
    "# Define a function to obtain citibike data\n",
    "\n",
    "def getCitiBikeCSV(datestring):\n",
    "    print (\"Downloading\", datestring)\n",
    "    ### First I will check that it is not already there\n",
    "    if not os.path.isfile(os.getenv(\"PUIDATA\") + \"/\" + datestring + \"-citibike-tripdata.csv\"):\n",
    "        if os.path.isfile(datestring + \"-citibike-tripdata.csv\"):\n",
    "            # if in the current dir just move it\n",
    "            if os.system(\"mv \" + datestring + \"-citibike-tripdata.csv \" + os.getenv(\"PUIDATA\")):\n",
    "                print (\"Error moving file!, Please check!\")\n",
    "        #otherwise start looking for the zip file\n",
    "        else:\n",
    "            if not os.path.isfile(os.getenv(\"PUIDATA\") + \"/\" + datestring + \"-citibike-tripdata.csv.zip\"):\n",
    "                if not os.path.isfile(datestring + \"-citibike-tripdata.csv.zip\"):\n",
    "                    os.system(\"curl -O https://s3.amazonaws.com/tripdata/\" + datestring + \"-citibike-tripdata.csv.zip\")\n",
    "                ###  To move it I use the os.system() functions to run bash commands with arguments\n",
    "                os.system(\"mv \" + datestring + \"-citibike-tripdata.csv.zip \" + os.getenv(\"PUIDATA\"))\n",
    "            ### unzip the csv \n",
    "            os.system(\"unzip \" + os.getenv(\"PUIDATA\") + \"/\" + datestring + \"-citibike-tripdata.csv.zip\")\n",
    "            ## NOTE: old csv citibike data had a different name structure. \n",
    "            if '2014' in datestring:\n",
    "                os.system(\"mv \" + datestring[:4] + '-' +  datestring[4:] + \n",
    "                          \"\\ -\\ Citi\\ Bike\\ trip\\ data.csv \" + datestring + \"-citibike-tripdata.csv\")\n",
    "            os.system(\"mv \" + datestring + \"-citibike-tripdata.csv \" + os.getenv(\"PUIDATA\"))\n",
    "    ### One final check:\n",
    "    if not os.path.isfile(os.getenv(\"PUIDATA\") + \"/\" + datestring + \"-citibike-tripdata.csv\"):\n",
    "        print (\"WARNING!!! something is wrong: the file is not there!\")\n",
    "        ### Download the file\n",
    "        print (\"Downloading the file\")\n",
    "\n",
    "    else:\n",
    "        print (\"file in place, you can continue\")"
   ]
  },
  {
   "cell_type": "code",
   "execution_count": 3,
   "metadata": {},
   "outputs": [
    {
     "name": "stdout",
     "output_type": "stream",
     "text": [
      "PUIdata /nfshome/skp454/PUIdata\n",
      "PUIdata /nfshome/skp454/PUIdata\n"
     ]
    }
   ],
   "source": [
    "# Check if PUIDATA is present or not\n",
    "print(\"PUIdata\", os.getenv(\"PUIDATA\"))\n",
    "\n",
    "# Create the env variable if missing\n",
    "os.environ[\"PUIDATA\"] = \"%s/PUIdata\"%os.getenv(\"HOME\")\n",
    "\n",
    "print(\"PUIdata\", os.getenv(\"PUIDATA\"))"
   ]
  },
  {
   "cell_type": "code",
   "execution_count": 4,
   "metadata": {},
   "outputs": [
    {
     "name": "stdout",
     "output_type": "stream",
     "text": [
      "Downloading 201808\n",
      "file in place, you can continue\n"
     ]
    }
   ],
   "source": [
    "# Download the required data\n",
    "datestring = '201808'\n",
    "getCitiBikeCSV(datestring)"
   ]
  },
  {
   "cell_type": "code",
   "execution_count": 5,
   "metadata": {},
   "outputs": [
    {
     "data": {
      "text/html": [
       "<div>\n",
       "<table border=\"1\" class=\"dataframe\">\n",
       "  <thead>\n",
       "    <tr style=\"text-align: right;\">\n",
       "      <th></th>\n",
       "      <th>tripduration</th>\n",
       "      <th>starttime</th>\n",
       "      <th>stoptime</th>\n",
       "      <th>start station id</th>\n",
       "      <th>start station name</th>\n",
       "      <th>start station latitude</th>\n",
       "      <th>start station longitude</th>\n",
       "      <th>end station id</th>\n",
       "      <th>end station name</th>\n",
       "      <th>end station latitude</th>\n",
       "      <th>end station longitude</th>\n",
       "      <th>bikeid</th>\n",
       "      <th>usertype</th>\n",
       "      <th>birth year</th>\n",
       "      <th>gender</th>\n",
       "    </tr>\n",
       "  </thead>\n",
       "  <tbody>\n",
       "    <tr>\n",
       "      <th>0</th>\n",
       "      <td>681</td>\n",
       "      <td>2018-08-01 00:00:07.3210</td>\n",
       "      <td>2018-08-01 00:11:28.9920</td>\n",
       "      <td>3162.0</td>\n",
       "      <td>W 78 St &amp; Broadway</td>\n",
       "      <td>40.783400</td>\n",
       "      <td>-73.980931</td>\n",
       "      <td>3383.0</td>\n",
       "      <td>Cathedral Pkwy &amp; Broadway</td>\n",
       "      <td>40.804213</td>\n",
       "      <td>-73.966991</td>\n",
       "      <td>27770</td>\n",
       "      <td>Subscriber</td>\n",
       "      <td>1986</td>\n",
       "      <td>1</td>\n",
       "    </tr>\n",
       "    <tr>\n",
       "      <th>1</th>\n",
       "      <td>625</td>\n",
       "      <td>2018-08-01 00:00:19.7480</td>\n",
       "      <td>2018-08-01 00:10:45.0290</td>\n",
       "      <td>3260.0</td>\n",
       "      <td>Mercer St &amp; Bleecker St</td>\n",
       "      <td>40.727064</td>\n",
       "      <td>-73.996621</td>\n",
       "      <td>2012.0</td>\n",
       "      <td>E 27 St &amp; 1 Ave</td>\n",
       "      <td>40.739445</td>\n",
       "      <td>-73.976806</td>\n",
       "      <td>25938</td>\n",
       "      <td>Subscriber</td>\n",
       "      <td>1969</td>\n",
       "      <td>1</td>\n",
       "    </tr>\n",
       "    <tr>\n",
       "      <th>2</th>\n",
       "      <td>1319</td>\n",
       "      <td>2018-08-01 00:00:21.1750</td>\n",
       "      <td>2018-08-01 00:22:20.6370</td>\n",
       "      <td>403.0</td>\n",
       "      <td>E 2 St &amp; 2 Ave</td>\n",
       "      <td>40.725029</td>\n",
       "      <td>-73.990697</td>\n",
       "      <td>285.0</td>\n",
       "      <td>Broadway &amp; E 14 St</td>\n",
       "      <td>40.734546</td>\n",
       "      <td>-73.990741</td>\n",
       "      <td>28679</td>\n",
       "      <td>Subscriber</td>\n",
       "      <td>1970</td>\n",
       "      <td>1</td>\n",
       "    </tr>\n",
       "    <tr>\n",
       "      <th>3</th>\n",
       "      <td>220</td>\n",
       "      <td>2018-08-01 00:00:26.4700</td>\n",
       "      <td>2018-08-01 00:04:06.8190</td>\n",
       "      <td>3637.0</td>\n",
       "      <td>Fulton St &amp; Waverly Ave</td>\n",
       "      <td>40.683239</td>\n",
       "      <td>-73.965996</td>\n",
       "      <td>399.0</td>\n",
       "      <td>Lafayette Ave &amp; St James Pl</td>\n",
       "      <td>40.688515</td>\n",
       "      <td>-73.964763</td>\n",
       "      <td>28075</td>\n",
       "      <td>Subscriber</td>\n",
       "      <td>1982</td>\n",
       "      <td>1</td>\n",
       "    </tr>\n",
       "    <tr>\n",
       "      <th>4</th>\n",
       "      <td>398</td>\n",
       "      <td>2018-08-01 00:00:30.2910</td>\n",
       "      <td>2018-08-01 00:07:09.2810</td>\n",
       "      <td>3662.0</td>\n",
       "      <td>31 Ave &amp; Steinway St</td>\n",
       "      <td>40.761294</td>\n",
       "      <td>-73.916917</td>\n",
       "      <td>3517.0</td>\n",
       "      <td>31 St &amp; Hoyt Ave N</td>\n",
       "      <td>40.771153</td>\n",
       "      <td>-73.917007</td>\n",
       "      <td>25002</td>\n",
       "      <td>Subscriber</td>\n",
       "      <td>1987</td>\n",
       "      <td>1</td>\n",
       "    </tr>\n",
       "  </tbody>\n",
       "</table>\n",
       "</div>"
      ],
      "text/plain": [
       "   tripduration                 starttime                  stoptime  \\\n",
       "0           681  2018-08-01 00:00:07.3210  2018-08-01 00:11:28.9920   \n",
       "1           625  2018-08-01 00:00:19.7480  2018-08-01 00:10:45.0290   \n",
       "2          1319  2018-08-01 00:00:21.1750  2018-08-01 00:22:20.6370   \n",
       "3           220  2018-08-01 00:00:26.4700  2018-08-01 00:04:06.8190   \n",
       "4           398  2018-08-01 00:00:30.2910  2018-08-01 00:07:09.2810   \n",
       "\n",
       "   start station id       start station name  start station latitude  \\\n",
       "0            3162.0       W 78 St & Broadway               40.783400   \n",
       "1            3260.0  Mercer St & Bleecker St               40.727064   \n",
       "2             403.0           E 2 St & 2 Ave               40.725029   \n",
       "3            3637.0  Fulton St & Waverly Ave               40.683239   \n",
       "4            3662.0     31 Ave & Steinway St               40.761294   \n",
       "\n",
       "   start station longitude  end station id             end station name  \\\n",
       "0               -73.980931          3383.0    Cathedral Pkwy & Broadway   \n",
       "1               -73.996621          2012.0              E 27 St & 1 Ave   \n",
       "2               -73.990697           285.0           Broadway & E 14 St   \n",
       "3               -73.965996           399.0  Lafayette Ave & St James Pl   \n",
       "4               -73.916917          3517.0           31 St & Hoyt Ave N   \n",
       "\n",
       "   end station latitude  end station longitude  bikeid    usertype  \\\n",
       "0             40.804213             -73.966991   27770  Subscriber   \n",
       "1             40.739445             -73.976806   25938  Subscriber   \n",
       "2             40.734546             -73.990741   28679  Subscriber   \n",
       "3             40.688515             -73.964763   28075  Subscriber   \n",
       "4             40.771153             -73.917007   25002  Subscriber   \n",
       "\n",
       "   birth year  gender  \n",
       "0        1986       1  \n",
       "1        1969       1  \n",
       "2        1970       1  \n",
       "3        1982       1  \n",
       "4        1987       1  "
      ]
     },
     "execution_count": 5,
     "metadata": {},
     "output_type": "execute_result"
    }
   ],
   "source": [
    "# Read csv into df_citiBike datfarame \n",
    "df_citiBike=pd.read_csv(os.getenv(\"PUIDATA\") + \"/\" + datestring + '-citibike-tripdata.csv')\n",
    "\n",
    "# display top rows of the complete data frame    \n",
    "df_citiBike.head()   "
   ]
  },
  {
   "cell_type": "code",
   "execution_count": 70,
   "metadata": {},
   "outputs": [],
   "source": [
    "# Drop the unwanted columns\n",
    "df_citiBikeTruncated = df_citiBike.drop(['tripduration', 'starttime', 'stoptime', 'start station id',\n",
    "       'start station name', 'start station latitude',\n",
    "       'start station longitude', 'end station id', 'end station name',\n",
    "       'end station latitude', 'end station longitude', 'bikeid',\n",
    "       'birth year'], axis=1)"
   ]
  },
  {
   "cell_type": "code",
   "execution_count": 71,
   "metadata": {},
   "outputs": [],
   "source": [
    "df_citiBikeTruncated['correct_gender'] = df_citiBikeTruncated['gender'].apply( lambda x: x > 0)\n",
    "#df_citiBikeTruncated = df_citiBikeTruncated.drop(['gender'], axis=1)"
   ]
  },
  {
   "cell_type": "code",
   "execution_count": 16,
   "metadata": {},
   "outputs": [
    {
     "data": {
      "text/html": [
       "<div>\n",
       "<table border=\"1\" class=\"dataframe\">\n",
       "  <thead>\n",
       "    <tr style=\"text-align: right;\">\n",
       "      <th></th>\n",
       "      <th>usertype</th>\n",
       "      <th>correct_gender</th>\n",
       "    </tr>\n",
       "  </thead>\n",
       "  <tbody>\n",
       "    <tr>\n",
       "      <th>0</th>\n",
       "      <td>Subscriber</td>\n",
       "      <td>True</td>\n",
       "    </tr>\n",
       "    <tr>\n",
       "      <th>1</th>\n",
       "      <td>Subscriber</td>\n",
       "      <td>True</td>\n",
       "    </tr>\n",
       "    <tr>\n",
       "      <th>2</th>\n",
       "      <td>Subscriber</td>\n",
       "      <td>True</td>\n",
       "    </tr>\n",
       "    <tr>\n",
       "      <th>3</th>\n",
       "      <td>Subscriber</td>\n",
       "      <td>True</td>\n",
       "    </tr>\n",
       "    <tr>\n",
       "      <th>4</th>\n",
       "      <td>Subscriber</td>\n",
       "      <td>True</td>\n",
       "    </tr>\n",
       "  </tbody>\n",
       "</table>\n",
       "</div>"
      ],
      "text/plain": [
       "     usertype correct_gender\n",
       "0  Subscriber           True\n",
       "1  Subscriber           True\n",
       "2  Subscriber           True\n",
       "3  Subscriber           True\n",
       "4  Subscriber           True"
      ]
     },
     "execution_count": 16,
     "metadata": {},
     "output_type": "execute_result"
    }
   ],
   "source": [
    "# Display top rows of the truncated dataframe\n",
    "df_citiBikeTruncated.head()"
   ]
  },
  {
   "cell_type": "code",
   "execution_count": 19,
   "metadata": {},
   "outputs": [
    {
     "data": {
      "text/plain": [
       "Text(0,0.5,'Number of Riders')"
      ]
     },
     "execution_count": 19,
     "metadata": {},
     "output_type": "execute_result"
    },
    {
     "data": {
      "image/png": "[encoded data removed]",
      "text/plain": [
       "<matplotlib.figure.Figure at 0x7f3658e42f28>"
      ]
     },
     "metadata": {},
     "output_type": "display_data"
    }
   ],
   "source": [
    "# Plot the count of Customer and Subscribers of different gender Type\n",
    "\n",
    "fig = pl.figure(figsize(5,5))\n",
    "\n",
    "# Instead of plotting with matplotlib i.e. plot() i use the plot method in pandas\n",
    "(df_citiBikeTruncated['correct_gender'][df_citiBikeTruncated['usertype'] == \"Customer\"].groupby(df_citiBikeTruncated['correct_gender']).count()).plot(kind=\"bar\", \n",
    "                                                                                              color='IndianRed',\n",
    "                                                                                              label='Customer')\n",
    "\n",
    "ax = (df_citiBikeTruncated['correct_gender'][df_citiBikeTruncated['usertype'] == \"Subscriber\"].groupby(df_citiBikeTruncated['correct_gender']).count()).plot(kind=\"bar\", \n",
    "                                                                                         color='SteelBlue',\n",
    "                                                                                         alpha=0.5,\n",
    "                                                                                         label='Subscriber')\n",
    "\n",
    "\n",
    "#tmp = ax.xaxis.set_ticklabels(['Unknown', 'Male', 'Female'], fontsize=10)\n",
    "pl.legend()\n",
    "pl.ylabel(\"Number of Riders\")"
   ]
  },
  {
   "cell_type": "markdown",
   "metadata": {},
   "source": [
    "#### Figure 1a: Distribution of customers and subscribers for different gender type (Absolute Counts)\n",
    "Note: the counts have errors of course. what is the error on the count statistics?\n",
    "\n",
    "for N counts the error is sqrt(N) - this is because counts follow a Poisson statistic\n"
   ]
  },
  {
   "cell_type": "code",
   "execution_count": 21,
   "metadata": {},
   "outputs": [
    {
     "data": {
      "text/plain": [
       "<matplotlib.legend.Legend at 0x7f3658c81f60>"
      ]
     },
     "execution_count": 21,
     "metadata": {},
     "output_type": "execute_result"
    },
    {
     "data": {
      "image/png": "[encoded data removed]",
      "text/plain": [
       "<matplotlib.figure.Figure at 0x7f3658cf2860>"
      ]
     },
     "metadata": {},
     "output_type": "display_data"
    }
   ],
   "source": [
    "fig=pl.figure(figsize(15,5))\n",
    "\n",
    "counts_c = df_citiBikeTruncated.correct_gender[df_citiBikeTruncated.usertype == \"Customer\"].groupby([df_citiBikeTruncated.correct_gender]).count()\n",
    "norm_c = 1\n",
    "error_c=np.sqrt(counts_c)\n",
    "ax= ((counts_c) / norm_c).plot(kind=\"bar\", yerr=[((error_c) / norm_c, (error_c) / norm_c)], \n",
    "                           color='IndianRed', label='Customer')\n",
    "\n",
    "counts_s = df_citiBikeTruncated.correct_gender[df_citiBikeTruncated.usertype == \"Subscriber\"].groupby([df_citiBikeTruncated.correct_gender]).count()\n",
    "norm_s = 1\n",
    "error_s = np.sqrt(counts_s)\n",
    "((counts_s) / norm_s).plot(kind=\"bar\", alpha=0.5 ,color='SteelBlue',  yerr=[\n",
    "            ((error_s) / norm_s, (error_s) / norm_s)], label='Subscriber')\n",
    "\n",
    "\n",
    "\n",
    "#ax.xaxis.set_ticklabels(['Unknown', 'Male', 'Female'], fontsize=10)\n",
    "ax.set_ylabel (\"Number of rides\")\n",
    "ax.set_xlabel (\"correct_gender\")\n",
    "pl.legend(['Customer','Subscriber'],fontsize=10)"
   ]
  },
  {
   "cell_type": "markdown",
   "metadata": {},
   "source": [
    "#### Figure 1b: Distribution of customers and subscribers for different gender type (Absolute Counts with Statistical Errors)\n",
    "Due to large difference between the number of rides for customers and subscribers it is difficult to make any comparison.\n",
    "Thus, we will divide by the total to create ratios/proportions for easy comparison"
   ]
  },
  {
   "cell_type": "code",
   "execution_count": 23,
   "metadata": {},
   "outputs": [
    {
     "data": {
      "text/plain": [
       "<matplotlib.legend.Legend at 0x7f3658ecb6a0>"
      ]
     },
     "execution_count": 23,
     "metadata": {},
     "output_type": "execute_result"
    },
    {
     "data": {
      "image/png": "[encoded data removed]",
      "text/plain": [
       "<matplotlib.figure.Figure at 0x7f3658ca7748>"
      ]
     },
     "metadata": {},
     "output_type": "display_data"
    }
   ],
   "source": [
    "fig = pl.figure(figsize(15,5))\n",
    "\n",
    "norm_c = counts_c.sum()\n",
    "error_c = np.sqrt(counts_c)\n",
    "((counts_c) / norm_c).plot(kind=\"bar\", color='IndianRed',  \n",
    "                           yerr=[((error_c) / norm_c, (error_c) / norm_c)], \n",
    "                           label='Customers')\n",
    "\n",
    "norm_s = counts_s.sum()\n",
    "ax = ((counts_s) / norm_s).plot(kind=\"bar\", alpha=0.5, \n",
    "                                yerr=[((error_s) / norm_s, (error_s) / norm_s)], \n",
    "                                color='SteelBlue', label='Subscribers')\n",
    "\n",
    "#ax.xaxis.set_ticklabels(['Unknown','Male','Female'], fontsize=10)\n",
    "ax.set_ylabel (\"Fraction of rides\")\n",
    "ax.set_xlabel (\"correct_gender\")\n",
    "\n",
    "pl.legend(['Customers','Subscribers'],fontsize=10)"
   ]
  },
  {
   "cell_type": "markdown",
   "metadata": {},
   "source": [
    "#### 2: Distribution of customers and subscribers by gender type normalized\n",
    "\n",
    "From here it is cleary visible that the proportion of customer entering wrong gender is huge compared to subscribers."
   ]
  },
  {
   "cell_type": "markdown",
   "metadata": {},
   "source": [
    "## Setup the test for proportions"
   ]
  },
  {
   "cell_type": "markdown",
   "metadata": {},
   "source": [
    "We will use fraction of customer that have inputed correct and incorrect gender; And the same fractions for subscribers  "
   ]
  },
  {
   "cell_type": "code",
   "execution_count": 38,
   "metadata": {},
   "outputs": [
    {
     "name": "stdout",
     "output_type": "stream",
     "text": [
      "Customer: incorrect:0.626, correct:0.374, incorrect error:0.002, correct error:0.001\n",
      "Subscriber: incorrect:0.020, correct:0.980, incorrect error:0.000, correct error:0.001\n"
     ]
    },
    {
     "data": {
      "text/plain": [
       "<matplotlib.legend.Legend at 0x7f3658a34710>"
      ]
     },
     "execution_count": 38,
     "metadata": {},
     "output_type": "execute_result"
    },
    {
     "data": {
      "image/png": "[encoded data removed]",
      "text/plain": [
       "<matplotlib.figure.Figure at 0x7f3658a89978>"
      ]
     },
     "metadata": {},
     "output_type": "display_data"
    }
   ],
   "source": [
    "# Setup the proportion and visualize it\n",
    "\n",
    "fig = pl.figure(figsize(15,6))\n",
    "ax1 = fig.add_subplot(121)\n",
    "ax2 = fig.add_subplot(122)\n",
    "ax1.set_xticks([])\n",
    "ax2.set_xticks([])\n",
    "\n",
    "incorrect_c = counts_c[0] * 1.0 / norm_c  #fraction of customer with incorrect gender\n",
    "correct_c = counts_c[1] * 1.0 / norm_c  #fraction of customer with correct gender\n",
    "eincorrect_c = np.sqrt(error_c[0]**2) / norm_c  #error on fraction of customer with incorrect gender\n",
    "ecorrect_c = np.sqrt(error_c[1]**2) / norm_c #error on fraction of customer with correct gender\n",
    "\n",
    "#same nomenclature as above\n",
    "\n",
    "incorrect_s = counts_s[0] * 1.0 / norm_s  \n",
    "correct_s = counts_s[1] * 1.0 / norm_s  \n",
    "eincorrect_s = np.sqrt(error_s[0]**2) / norm_s  \n",
    "ecorrect_s = np.sqrt(error_s[1]**2) / norm_s \n",
    "\n",
    "print(\"Customer: incorrect:{0:.3f}, correct:{1:.3f}, incorrect error:{2:.3f}, correct error:{3:.3f}\"\\\n",
    "      .format(incorrect_c, correct_c, eincorrect_c, ecorrect_c))\n",
    "print(\"Subscriber: incorrect:{0:.3f}, correct:{1:.3f}, incorrect error:{2:.3f}, correct error:{3:.3f}\"\\\n",
    "      .format(incorrect_s, correct_s, eincorrect_s, ecorrect_s))\n",
    "\n",
    "ax1.errorbar([0.4], [incorrect_c], yerr=[eincorrect_c], fmt='o', label='Customer')\n",
    "ax1.errorbar([0.2], [incorrect_s], yerr=[eincorrect_s], fmt='o', label='Subscriber')\n",
    "ax1.set_xlim(0, 0.5)\n",
    "ax2.errorbar([0.4], [correct_c], yerr=[ecorrect_c], fmt='o', label='Customer')\n",
    "ax2.errorbar([0.2], [correct_s], yerr=[ecorrect_s], fmt='o', label='Subscriber')\n",
    "ax1.set_xlim(0, 0.5)\n",
    "ax1.set_title(\"Incorrect Gender\")\n",
    "ax2.set_title(\"Correct Gender\")\n",
    "ax2.set_ylabel(\"Fraction of normalized rides by customer/subscriber\")\n",
    "ax1.set_ylabel(\"Fraction of normalized rides by customer/subscriber\")\n",
    "\n",
    "pl.xlim(-0.5, 1.5)\n",
    "pl.legend(fontsize = 20)"
   ]
  },
  {
   "cell_type": "markdown",
   "metadata": {},
   "source": [
    "### We use z-test to test the proportions\n",
    "\n",
    "$z = \\frac{(p_0 - p_1)}{SE} $\n",
    "\n",
    "$p =\\frac{p_0  n_0 + p_1  n_1}{n_0+n_1}$\n",
    "\n",
    "$SE = \\sqrt{ p  ( 1 - p )  (\\frac{1}{n_0} + \\frac{1}{n_1}) }$\n",
    "\n",
    "and in this notation\n",
    "\n",
    "$p_0 = \\frac{C_{\\mathrm{unknown}}}{C_{\\mathrm{total}}}$¶\n",
    "\n",
    "and\n",
    "\n",
    "$p_1 = \\frac{S_{\\mathrm{unknown}}}{S_{\\mathrm{total}}}$"
   ]
  },
  {
   "cell_type": "code",
   "execution_count": 41,
   "metadata": {},
   "outputs": [
    {
     "name": "stdout",
     "output_type": "stream",
     "text": [
      "difference between man and women on weekend:  0.605664920633\n",
      "We must check the significance before we reject the Null Hypothesis\n"
     ]
    }
   ],
   "source": [
    "# Check whether NULL hypothesis can be rejected\n",
    "\n",
    "P0mP1 = incorrect_c - incorrect_s\n",
    "print (\"difference between man and women on weekend: \", P0mP1)\n",
    "if P0mP1 <= 0:\n",
    "    # we are done...\n",
    "    print(\"We are in accordance with Null hypothesis\")\n",
    "else:\n",
    "    # morework to do\n",
    "    print (\"We must check the significance before we reject the Null Hypothesis\")"
   ]
  },
  {
   "cell_type": "markdown",
   "metadata": {},
   "source": [
    "#### Is the Difference Statistically significant?"
   ]
  },
  {
   "cell_type": "code",
   "execution_count": 42,
   "metadata": {},
   "outputs": [
    {
     "name": "stdout",
     "output_type": "stream",
     "text": [
      "The z statistics is 964.03\n"
     ]
    }
   ],
   "source": [
    "# defining the functions that calculate the statistics\n",
    "# the lambda style definition is NOT APPROVED BY PEP8 and you should avoind it\n",
    "# but I am putting it here since you may encounter it in your coding life.\n",
    "# confront the equation in the markdown cell above with these function to understand as they work\n",
    "\n",
    "p = lambda p0, p1, n0, n1: (p0 * n0 + p1 * n1) / (n0 + n1)\n",
    "se = lambda p, n0, n1: np.sqrt(p * (1 - p) * (1.0 / n0 + 1.0 / n1)) #standard error\n",
    "zscore = lambda p0, p1, s : (p0 - p1) / s\n",
    "\n",
    "# calculations\n",
    "\n",
    "sp_stdev_cs = se(p(incorrect_c, incorrect_s, norm_c, norm_s), norm_c, norm_s)\n",
    "# print (sp_stdev_mw)\n",
    "z = zscore(incorrect_c, incorrect_s, sp_stdev_cs)\n",
    "print (\"The z statistics is %.2f\"%z)"
   ]
  },
  {
   "cell_type": "markdown",
   "metadata": {},
   "source": [
    "The Z-Score is significantly higher thus the p-value is close to 0.000.\n",
    "\n",
    "Hence, we reject the Null hypothesis that the fraction of customer inputting incorrect\n",
    "gender type is less than or equal to that of subscriber.\n",
    "\n",
    "And accept our hypothesis that the customers are inputting wrong gender type more than compared to subscribers"
   ]
  },
  {
   "cell_type": "markdown",
   "metadata": {},
   "source": [
    "#### Effect Size\n",
    "\n",
    "2 formulas to calculate effect size\n",
    "\n",
    "$r = \\frac{z}{\\sqrt{(n_0+n_1)}}$ https://en.wikipedia.org/wiki/Effect_size\n",
    "\n",
    "and\n",
    "\n",
    "$h =  2 (\\arcsin \\sqrt{p_0} -  \\arcsin \\sqrt{p_1} )$. https://en.wikipedia.org/wiki/Cohen%27s_h"
   ]
  },
  {
   "cell_type": "code",
   "execution_count": 44,
   "metadata": {},
   "outputs": [],
   "source": [
    "# Setup function for r and h\n",
    "r = lambda z, n0, n1 : z / np.sqrt(n0+n1)\n",
    "h = lambda p0, p1: 2 * (np.arcsin(np.sqrt(p0)) - np.arcsin(np.sqrt(p1)))"
   ]
  },
  {
   "cell_type": "code",
   "execution_count": 46,
   "metadata": {},
   "outputs": [
    {
     "name": "stdout",
     "output_type": "stream",
     "text": [
      "Effect size calculated by r:  1.30292555442\n",
      "Effect size calculated by h:  1.54091950608\n"
     ]
    }
   ],
   "source": [
    "print(\"Effect size calculated by r: \", r(z,norm_c, norm_s))\n",
    "print(\"Effect size calculated by h: \", h(incorrect_c, incorrect_s))"
   ]
  },
  {
   "cell_type": "markdown",
   "metadata": {},
   "source": [
    "#### Chi-Square Test"
   ]
  },
  {
   "cell_type": "code",
   "execution_count": 47,
   "metadata": {},
   "outputs": [],
   "source": [
    "# Define chi-square function:\n",
    "def evalChisq(values):\n",
    "    values = np.array(values)\n",
    "    E = np.empty_like(values)\n",
    "    for j in range(len(values[0])):\n",
    "        for i in range(2):\n",
    "            \n",
    "            E[i][j] = ((values[i,:].sum() * values[:,j].sum()) / \n",
    "                        (values).sum())\n",
    "    return ((values - E)**2 / E).sum()"
   ]
  },
  {
   "cell_type": "code",
   "execution_count": 53,
   "metadata": {},
   "outputs": [
    {
     "name": "stdout",
     "output_type": "stream",
     "text": [
      "The Null hypothesis that the customers are inputting less or equal number of incorrect gender type than subscriber\n",
      "can be rejected at alpha = 0.05\n",
      "with a chi square statistics of 929376.43\n"
     ]
    }
   ],
   "source": [
    "# Calculate chisquare\n",
    "chisq  = evalChisq(np.array([counts_c, counts_s]))\n",
    "\n",
    "# For DOF=1 3.84 is threshold for p-value=0.05\n",
    "chimin_alpha5pc = 3.84\n",
    "print (\"The Null hypothesis that the customers are inputting less or equal number of incorrect gender type than subscriber\")\n",
    "if chisq > chimin_alpha5pc :\n",
    "    print (\"can be rejected at alpha = 0.05\")\n",
    "else: \n",
    "    print (\"cannot be rejected (p<0.05)\")\n",
    "print (\"with a chi square statistics of %.2f\"%chisq )"
   ]
  }
 ],
 "metadata": {
  "kernelspec": {
   "display_name": "PUI2016_Python3",
   "language": "python",
   "name": "pui2016_python3"
  },
  "language_info": {
   "codemirror_mode": {
    "name": "ipython",
    "version": 3
   },
   "file_extension": ".py",
   "mimetype": "text/x-python",
   "name": "python",
   "nbconvert_exporter": "python",
   "pygments_lexer": "ipython3",
   "version": "3.5.4"
  }
 },
 "nbformat": 4,
 "nbformat_minor": 2
}
