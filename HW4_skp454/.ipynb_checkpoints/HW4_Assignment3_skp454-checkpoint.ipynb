{
 "cells": [
  {
   "cell_type": "code",
   "execution_count": 1,
   "metadata": {},
   "outputs": [
    {
     "name": "stdout",
     "output_type": "stream",
     "text": [
      "Populating the interactive namespace from numpy and matplotlib\n"
     ]
    }
   ],
   "source": [
    "# Import useful libraries\n",
    "from __future__  import print_function, division\n",
    "import pylab as pl\n",
    "import pandas as pd\n",
    "import numpy as np\n",
    "import os\n",
    "\n",
    "%pylab inline"
   ]
  },
  {
   "cell_type": "markdown",
   "metadata": {},
   "source": [
    "### Forming Null Hypothesis\n",
    "\n",
    "Question:  is the new Bus route imprving commute?\n",
    "\n",
    "$H_0$ : The commute time is on average the same or longer with the new bus route as it was before:\n",
    "\n",
    "$H_1$: the commute time is shorter with the new bus route\n",
    "than it was before\n",
    "\n",
    "$H_0$: $T_{\\mathrm{new}} >= T_{\\mathrm{old}}$\n",
    "\n",
    "$H_1$: $T_{\\mathrm{new}} < T_{\\mathrm{old}}$\n",
    "\n",
    "Significance level = 0.05\n",
    "\n",
    "Thus, z_score of <-2 will support Null hypothesis \n",
    "\n",
    "and z_score of >2 will support alternate hypothesis"
   ]
  },
  {
   "cell_type": "code",
   "execution_count": 2,
   "metadata": {},
   "outputs": [],
   "source": [
    "# Download the new bus time data into CSV\n",
    "df_newBusTime = pd.read_csv(\"https://raw.githubusercontent.com/fedhere/PUI2018_fb55/master/Lab4_fb55/times.txt\")\n",
    "df_newBusTime.loc[99,df_newBusTime.columns[0]]=float(df_newBusTime.columns[0])\n",
    "df_newBusTime.columns=['Time']"
   ]
  },
  {
   "cell_type": "markdown",
   "metadata": {},
   "source": [
    "#### Z-Score = $( Mean_{\\mathrm{Population}} - Mean_{\\mathrm{Sample}} ) /  (std/sqrt(N))$"
   ]
  },
  {
   "cell_type": "code",
   "execution_count": 3,
   "metadata": {},
   "outputs": [],
   "source": [
    "# Define requisite for calculationg z-score\n",
    "mean_population = 36\n",
    "mean_sample = df_newBusTime['Time'].mean()\n",
    "std_population = 6\n",
    "size_sample = len(df_newBusTime)"
   ]
  },
  {
   "cell_type": "code",
   "execution_count": 4,
   "metadata": {},
   "outputs": [],
   "source": [
    "# Calculate z-score\n",
    "z_score= (mean_population - mean_sample)/ (std_population/(np.sqrt(size_sample)))"
   ]
  },
  {
   "cell_type": "code",
   "execution_count": 5,
   "metadata": {},
   "outputs": [
    {
     "name": "stdout",
     "output_type": "stream",
     "text": [
      "The z_score is:  2.55639718617\n"
     ]
    }
   ],
   "source": [
    "# Print z-score\n",
    "print(\"The z_score is: \", z_score )"
   ]
  },
  {
   "cell_type": "markdown",
   "metadata": {},
   "source": [
    "### z_score is:  2.55639718617\n",
    "\n",
    "The z_score of new sample mean is 2.55;\n",
    "\n",
    "The threshold for significance is 0.05, for this threshold a z_score of >+2 standard deviation is valid to support altrenate hypothesis.\n",
    "\n",
    "Our z_score +2.55 is greater than +2 thus, Null hypothesis is rejected and Alternate hypothesis is accepted. The commute time is shorter with the new bus route than it was before with a statistical significance of alpha=0.05.\n"
   ]
  }
 ],
 "metadata": {
  "kernelspec": {
   "display_name": "PUI2016_Python3",
   "language": "python",
   "name": "pui2016_python3"
  },
  "language_info": {
   "codemirror_mode": {
    "name": "ipython",
    "version": 3
   },
   "file_extension": ".py",
   "mimetype": "text/x-python",
   "name": "python",
   "nbconvert_exporter": "python",
   "pygments_lexer": "ipython3",
   "version": "3.5.4"
  }
 },
 "nbformat": 4,
 "nbformat_minor": 2
}
